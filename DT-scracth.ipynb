{
 "cells": [
  {
   "cell_type": "code",
   "execution_count": 1,
   "id": "a1995599-de6f-408f-aa6a-831daf0dd4d4",
   "metadata": {},
   "outputs": [],
   "source": [
    "import numpy as np\n",
    "import matplotlib.pyplot as plt"
   ]
  },
  {
   "cell_type": "code",
   "execution_count": 2,
   "id": "fd6c6c02-7aa4-4d7c-b435-b5fb4d1f0f27",
   "metadata": {},
   "outputs": [],
   "source": [
    "# Generate some example data\n",
    "np.random.seed(42)\n",
    "data = np.random.rand(10, 2)  # 10 samples, 2 features (color, diameter)\n",
    "labels = np.random.choice([0, 1], 10)  # 0 represents apple, 1 represents orange"
   ]
  },
  {
   "cell_type": "code",
   "execution_count": 3,
   "id": "b1e18199-2561-41df-aad5-2160c3d11c56",
   "metadata": {},
   "outputs": [],
   "source": [
    "class DecisionNode:\n",
    "    def __init__(self, feature_index=None, threshold=None, left=None, right=None, value=None):\n",
    "        self.feature_index = feature_index  # Index of feature to split on\n",
    "        self.threshold = threshold          # Threshold value for the feature\n",
    "        self.left = left                    # Left subtree\n",
    "        self.right = right                  # Right subtree\n",
    "        self.value = value                  # Class label for leaf nodes\n",
    "\n",
    "def gini_impurity(y):\n",
    "    # Calculate Gini impurity for a set of labels\n",
    "    unique_classes, counts = np.unique(y, return_counts=True)\n",
    "    probabilities = counts / len(y)\n",
    "    gini = 1 - np.sum(probabilities**2)\n",
    "    return gini\n",
    "\n",
    "def split_data(X, y, feature_index, threshold):\n",
    "    # Split data based on a given feature and threshold\n",
    "    left_mask = X[:, feature_index] <= threshold\n",
    "    right_mask = ~left_mask\n",
    "    return X[left_mask], y[left_mask], X[right_mask], y[right_mask]\n",
    "\n",
    "def find_best_split(X, y):\n",
    "    # Find the best feature and threshold to split the data based on Gini impurity\n",
    "    best_gini = float('inf')\n",
    "    best_feature = None\n",
    "    best_threshold = None\n",
    "\n",
    "    for feature_index in range(X.shape[1]):\n",
    "        thresholds = np.unique(X[:, feature_index])\n",
    "        for threshold in thresholds:\n",
    "            X_left, y_left, X_right, y_right = split_data(X, y, feature_index, threshold)\n",
    "            gini = (len(y_left) * gini_impurity(y_left) + len(y_right) * gini_impurity(y_right)) / len(y)\n",
    "\n",
    "            if gini < best_gini:\n",
    "                best_gini = gini\n",
    "                best_feature = feature_index\n",
    "                best_threshold = threshold\n",
    "\n",
    "    return best_feature, best_threshold\n",
    "\n",
    "def build_tree(X, y, depth=1, max_depth=None):\n",
    "    # Recursively build the decision tree\n",
    "    if depth == max_depth or len(np.unique(y)) == 1:\n",
    "        # Create a leaf node\n",
    "        return DecisionNode(value=np.bincount(y).argmax())\n",
    "\n",
    "    feature_index, threshold = find_best_split(X, y)\n",
    "    if feature_index is None:\n",
    "        # Unable to find a split, create a leaf node\n",
    "        return DecisionNode(value=np.bincount(y).argmax())\n",
    "\n",
    "    # Split the data\n",
    "    X_left, y_left, X_right, y_right = split_data(X, y, feature_index, threshold)\n",
    "\n",
    "    # Recursively build left and right subtrees\n",
    "    left_subtree = build_tree(X_left, y_left, depth + 1, max_depth)\n",
    "    right_subtree = build_tree(X_right, y_right, depth + 1, max_depth)\n",
    "\n",
    "    # Create a decision node\n",
    "    return DecisionNode(feature_index=feature_index, threshold=threshold, left=left_subtree, right=right_subtree)\n",
    "\n",
    "def plot_decision_tree(tree, feature_names=None, class_names=None, depth=0):\n",
    "    # Visualize the decision tree using matplotlib\n",
    "    if tree.value is not None:\n",
    "        if class_names:\n",
    "            print(f\"{depth*'  '}Predicted class: {class_names[tree.value]}\")\n",
    "        else:\n",
    "            print(f\"{depth*'  '}Predicted class: {tree.value}\")\n",
    "    else:\n",
    "        if feature_names:\n",
    "            print(f\"{depth*'  '}Split on feature {feature_names[tree.feature_index]} at threshold {tree.threshold}\")\n",
    "        else:\n",
    "            print(f\"{depth*'  '}Split on feature {tree.feature_index} at threshold {tree.threshold}\")\n",
    "\n",
    "        plot_decision_tree(tree.left, feature_names, class_names, depth + 1)\n",
    "        plot_decision_tree(tree.right, feature_names, class_names, depth + 1)\n",
    "\n"
   ]
  },
  {
   "cell_type": "code",
   "execution_count": 4,
   "id": "2d96014c-9514-4507-a1e1-fd917d445277",
   "metadata": {},
   "outputs": [],
   "source": [
    "# Build the decision tree\n",
    "tree = build_tree(data, labels)"
   ]
  },
  {
   "cell_type": "code",
   "execution_count": 5,
   "id": "b42cb908-fdcc-4c48-8627-6073899d8737",
   "metadata": {},
   "outputs": [
    {
     "name": "stdout",
     "output_type": "stream",
     "text": [
      "Split on feature 0 at threshold 0.15601864044243652\n",
      "  Predicted class: 1\n",
      "  Split on feature 0 at threshold 0.18182496720710062\n",
      "    Predicted class: 0\n",
      "    Split on feature 1 at threshold 0.5247564316322378\n",
      "      Predicted class: 1\n",
      "      Split on feature 0 at threshold 0.3745401188473625\n",
      "        Predicted class: 0\n",
      "        Split on feature 0 at threshold 0.6011150117432088\n",
      "          Predicted class: 1\n",
      "          Predicted class: 0\n"
     ]
    }
   ],
   "source": [
    "# Visualize the decision tree\n",
    "plot_decision_tree(tree)"
   ]
  }
 ],
 "metadata": {
  "kernelspec": {
   "display_name": "Python 3 (ipykernel)",
   "language": "python",
   "name": "python3"
  },
  "language_info": {
   "codemirror_mode": {
    "name": "ipython",
    "version": 3
   },
   "file_extension": ".py",
   "mimetype": "text/x-python",
   "name": "python",
   "nbconvert_exporter": "python",
   "pygments_lexer": "ipython3",
   "version": "3.10.9"
  }
 },
 "nbformat": 4,
 "nbformat_minor": 5
}
